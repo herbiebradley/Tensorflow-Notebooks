{
  "nbformat": 4,
  "nbformat_minor": 0,
  "metadata": {
    "colab": {
      "name": "DCGAN.ipynb",
      "version": "0.3.2",
      "provenance": [],
      "collapsed_sections": [],
      "include_colab_link": true
    },
    "kernelspec": {
      "name": "python3",
      "display_name": "Python 3"
    },
    "accelerator": "GPU"
  },
  "cells": [
    {
      "cell_type": "markdown",
      "metadata": {
        "id": "view-in-github",
        "colab_type": "text"
      },
      "source": [
        "[View in Colaboratory](https://colab.research.google.com/github/herbiebradley/Tensorflow-Notebooks/blob/master/DCGAN.ipynb)"
      ]
    },
    {
      "metadata": {
        "id": "fhSLyT6GwPEc",
        "colab_type": "code",
        "colab": {}
      },
      "cell_type": "code",
      "source": [
        "import tensorflow as tf\n",
        "import numpy as np\n",
        "tf.enable_eager_execution()\n",
        "\n",
        "import os\n",
        "import time\n",
        "import numpy as np\n",
        "import glob\n",
        "import matplotlib.pyplot as plt\n",
        "import PIL\n",
        "from IPython import display"
      ],
      "execution_count": 0,
      "outputs": []
    },
    {
      "metadata": {
        "id": "CyAbWXyqbdK0",
        "colab_type": "code",
        "colab": {}
      },
      "cell_type": "code",
      "source": [
        "# Test how much GPU RAM on Google Colab\n",
        "!ln -sf /opt/bin/nvidia-smi /usr/bin/nvidia-smi\n",
        "!pip install gputil\n",
        "!pip install psutil\n",
        "!pip install humanize\n",
        "import psutil\n",
        "import humanize\n",
        "import GPUtil as GPU\n",
        "GPUs = GPU.getGPUs()\n",
        "# XXX: only one GPU on Colab and isn’t guaranteed\n",
        "gpu = GPUs[0]\n",
        "def printm():\n",
        " process = psutil.Process(os.getpid())\n",
        " print(\"Gen RAM Free: \" + humanize.naturalsize( psutil.virtual_memory().available ), \" | Proc size: \" + humanize.naturalsize( process.memory_info().rss))\n",
        " print(\"GPU RAM Free: {0:.0f}MB | Used: {1:.0f}MB | Util {2:3.0f}% | Total {3:.0f}MB\".format(gpu.memoryFree, gpu.memoryUsed, gpu.memoryUtil*100, gpu.memoryTotal))\n",
        "printm()"
      ],
      "execution_count": 0,
      "outputs": []
    },
    {
      "metadata": {
        "id": "7iLnmMsPWrLX",
        "colab_type": "code",
        "colab": {
          "base_uri": "https://localhost:8080/",
          "height": 55
        },
        "outputId": "1fb59566-d545-464d-8a8e-167ad9755a7c"
      },
      "cell_type": "code",
      "source": [
        "(train_images, train_labels), (test_images, test_labels) = tf.keras.datasets.mnist.load_data()\n",
        "train_images = train_images.reshape(train_images.shape[0], 28, 28, 1).astype('float32')\n",
        "# Normalizing the images to the range of [-1, 1]\n",
        "train_images = (train_images - 127.5) / 127.5"
      ],
      "execution_count": 4,
      "outputs": [
        {
          "output_type": "stream",
          "text": [
            "Downloading data from https://storage.googleapis.com/tensorflow/tf-keras-datasets/mnist.npz\n",
            "11493376/11490434 [==============================] - 1s 0us/step\n"
          ],
          "name": "stdout"
        }
      ]
    },
    {
      "metadata": {
        "id": "XAs-5CUKaOyT",
        "colab_type": "code",
        "colab": {}
      },
      "cell_type": "code",
      "source": [
        "BUFFER_SIZE = 60000 # 60000 = number of train mnist images\n",
        "BATCH_SIZE = 256"
      ],
      "execution_count": 0,
      "outputs": []
    },
    {
      "metadata": {
        "id": "p0N0dlwaZg3V",
        "colab_type": "code",
        "colab": {}
      },
      "cell_type": "code",
      "source": [
        "train_dataset = tf.data.Dataset.from_tensor_slices(train_images).shuffle(BUFFER_SIZE).batch(BATCH_SIZE)"
      ],
      "execution_count": 0,
      "outputs": []
    },
    {
      "metadata": {
        "id": "1UwMmU7XafUY",
        "colab_type": "text"
      },
      "cell_type": "markdown",
      "source": [
        "### Data input done, now define DCGAN architecture"
      ]
    },
    {
      "metadata": {
        "id": "PbIwKSl4dT4g",
        "colab_type": "code",
        "colab": {}
      },
      "cell_type": "code",
      "source": [
        "class Discriminator(tf.keras.Model):\n",
        "  \n",
        "  def __init__(self):\n",
        "    super(Discriminator, self).__init__()\n",
        "    \n",
        "    self.conv1 = tf.keras.layers.Conv2D(64, 5, strides=2, input_shape=(28, 28, 1), padding='same')\n",
        "    self.conv2 = tf.keras.layers.Conv2D(128, 5, strides=2, padding='same')\n",
        "    self.conv3 = tf.keras.layers.Conv2D(256, 5, strides=2, padding='same')\n",
        "    self.conv4 = tf.keras.layers.Conv2D(512, 5, strides=1, padding='same')\n",
        "    \n",
        "    self.leaky = tf.keras.layers.LeakyReLU(0.3)\n",
        "    self.dropout = tf.keras.layers.Dropout(0.4)\n",
        "    self.flatten = tf.keras.layers.Flatten()\n",
        "    self.fc1 = tf.keras.layers.Dense(1, activation='sigmoid')\n",
        "    \n",
        "    \n",
        "  @tf.contrib.eager.defun  \n",
        "  def call(self, inputs, training=True):\n",
        "    x = self.conv1(inputs)\n",
        "    x = self.leaky(x)\n",
        "    \n",
        "    x = self.conv2(x)\n",
        "    x = self.leaky(x)\n",
        "    x = self.dropout(x, training=training)\n",
        "    \n",
        "    x = self.conv3(x)\n",
        "    x = self.leaky(x)\n",
        "    x = self.dropout(x, training=training)\n",
        "    \n",
        "    x = self.conv4(x)\n",
        "    x = self.leaky(x)\n",
        "    x = self.dropout(x, training=training)\n",
        "    \n",
        "    x = self.flatten(x)\n",
        "    return self.fc1(x)"
      ],
      "execution_count": 0,
      "outputs": []
    },
    {
      "metadata": {
        "id": "FI9KkQWaaqeR",
        "colab_type": "code",
        "colab": {}
      },
      "cell_type": "code",
      "source": [
        "class Generator(tf.keras.Model):\n",
        "  \n",
        "  def __init__(self):\n",
        "    super(Generator, self).__init__()\n",
        "    \n",
        "    self.fc1 = tf.keras.layers.Dense(7*7*256, input_dim=100)\n",
        "    self.batchnorm1 = tf.keras.layers.BatchNormalization(momentum=0.9)\n",
        "    \n",
        "    self.upsample1 = tf.keras.layers.UpSampling2D()\n",
        "    self.conv1 = tf.keras.layers.Conv2D(128, (5, 5), padding='same')\n",
        "    self.batchnorm2 = tf.keras.layers.BatchNormalization(momentum=0.9)\n",
        "                                        \n",
        "    self.upsample2 = tf.keras.layers.UpSampling2D()\n",
        "    self.conv2 = tf.keras.layers.Conv2D(64, (5, 5), padding='same')\n",
        "    self.batchnorm3 = tf.keras.layers.BatchNormalization(momentum=0.9)\n",
        "    \n",
        "    self.conv3 = tf.keras.layers.Conv2D(32, (5, 5), padding='same')\n",
        "    self.batchnorm4 = tf.keras.layers.BatchNormalization(momentum=0.9)\n",
        "    \n",
        "    self.conv4 = tf.keras.layers.Conv2D(1, (5, 5), padding='same', activation='sigmoid')\n",
        "                                        \n",
        "    self.leaky = tf.keras.layers.LeakyReLU(0.3)\n",
        "    self.dropout = tf.keras.layers.Dropout(0.4)\n",
        "    \n",
        "  @tf.contrib.eager.defun  \n",
        "  def call(self, inputs, training=True):\n",
        "    \n",
        "    x = self.fc1(inputs)\n",
        "    x = self.batchnorm1(x, training=training)\n",
        "    x = self.leaky(x)\n",
        "                                        \n",
        "    x = tf.reshape(x, shape=(-1, 7, 7, 256))\n",
        "    x = self.dropout(x, training=training)\n",
        "    \n",
        "    x = self.upsample1(x)\n",
        "    x = self.conv1(x)\n",
        "    x = self.batchnorm2(x, training=training)\n",
        "    x = self.leaky(x)\n",
        "                                        \n",
        "    x = self.upsample2(x)\n",
        "    x = self.conv2(x)\n",
        "    x = self.batchnorm3(x, training=training)\n",
        "    x = self.leaky(x)\n",
        "                                        \n",
        "    x = self.conv3(x)\n",
        "    x = self.batchnorm4(x, training=training)\n",
        "    x = self.leaky(x)\n",
        "                                        \n",
        "    return self.conv4(x)"
      ],
      "execution_count": 0,
      "outputs": []
    },
    {
      "metadata": {
        "id": "y-GJSyqrp6do",
        "colab_type": "code",
        "colab": {}
      },
      "cell_type": "code",
      "source": [
        "generator = Generator()\n",
        "discriminator = Discriminator()"
      ],
      "execution_count": 0,
      "outputs": []
    },
    {
      "metadata": {
        "id": "F4t1GLOtqYN_",
        "colab_type": "code",
        "colab": {}
      },
      "cell_type": "code",
      "source": [
        "def discriminator_loss(real_output, generated_output):\n",
        "    # [1,1,...,1] with real output since it is true and we want\n",
        "    # our generated examples to look like it\n",
        "    # Don't need to use tf.reduce_mean because using Eager training\n",
        "    real_loss = tf.losses.sigmoid_cross_entropy(multi_class_labels=tf.ones_like(real_output), logits=real_output)\n",
        "\n",
        "    # [0,0,...,0] with generated images since they are fake\n",
        "    generated_loss = tf.losses.sigmoid_cross_entropy(multi_class_labels=tf.zeros_like(generated_output), logits=generated_output)\n",
        "\n",
        "    total_loss = real_loss + generated_loss\n",
        "\n",
        "    return total_loss"
      ],
      "execution_count": 0,
      "outputs": []
    },
    {
      "metadata": {
        "id": "Y7V1zhhhrzji",
        "colab_type": "code",
        "colab": {}
      },
      "cell_type": "code",
      "source": [
        "def generator_loss(generated_output):\n",
        "    return tf.losses.sigmoid_cross_entropy(tf.ones_like(generated_output), generated_output)"
      ],
      "execution_count": 0,
      "outputs": []
    },
    {
      "metadata": {
        "id": "Nnze1oh4sEes",
        "colab_type": "code",
        "colab": {}
      },
      "cell_type": "code",
      "source": [
        "discriminator_optimizer = tf.train.AdamOptimizer(0.0004)\n",
        "generator_optimizer = tf.train.AdamOptimizer(0.0004)"
      ],
      "execution_count": 0,
      "outputs": []
    },
    {
      "metadata": {
        "id": "CBIy1aMXBcaC",
        "colab_type": "code",
        "colab": {}
      },
      "cell_type": "code",
      "source": [
        "checkpoint_dir = './training_checkpoints'\n",
        "checkpoint_prefix = os.path.join(checkpoint_dir, \"ckpt\")\n",
        "checkpoint = tf.train.Checkpoint(generator_optimizer=generator_optimizer,\n",
        "                                 discriminator_optimizer=discriminator_optimizer,\n",
        "                                 generator=generator,\n",
        "                                 discriminator=discriminator)"
      ],
      "execution_count": 0,
      "outputs": []
    },
    {
      "metadata": {
        "id": "HqH2NBmS6yJq",
        "colab_type": "code",
        "colab": {}
      },
      "cell_type": "code",
      "source": [
        "EPOCHS = 1\n",
        "noise_dim = 100\n",
        "num_examples_to_generate = 16\n",
        "\n",
        "# keeping the random vector constant for generation (prediction) so\n",
        "# it will be easier to see the improvement of the gan.\n",
        "random_vector_for_generation = tf.random_normal([num_examples_to_generate,\n",
        "                                                 noise_dim])"
      ],
      "execution_count": 0,
      "outputs": []
    },
    {
      "metadata": {
        "id": "fCWdk_uOBfVG",
        "colab_type": "code",
        "colab": {}
      },
      "cell_type": "code",
      "source": [
        "def generate_and_save_images(model, epoch, test_input):\n",
        "  # make sure the training parameter is set to False because\n",
        "  # don't want to train the batchnorm layer when doing inference.\n",
        "  predictions = model(test_input, training=False)\n",
        "\n",
        "  fig = plt.figure(figsize=(4,4))\n",
        "  \n",
        "  for i in range(predictions.shape[0]):\n",
        "      plt.subplot(4, 4, i+1)\n",
        "      plt.imshow(predictions[i, :, :, 0] * 127.5 + 127.5, cmap='gray')\n",
        "      plt.axis('off')\n",
        "        \n",
        "  plt.savefig('image_at_epoch_{:04d}.png'.format(epoch))\n",
        "  plt.show()"
      ],
      "execution_count": 0,
      "outputs": []
    },
    {
      "metadata": {
        "id": "aMRcJ9kUBoMJ",
        "colab_type": "code",
        "colab": {}
      },
      "cell_type": "code",
      "source": [
        "def train(dataset, epochs, noise_dim):  \n",
        "  for epoch in range(epochs):\n",
        "    start = time.time()\n",
        "    \n",
        "    for images in dataset:\n",
        "      # generating noise from a uniform distribution\n",
        "      noise = tf.random_normal([BATCH_SIZE, noise_dim])\n",
        "      \n",
        "      with tf.GradientTape() as gen_tape, tf.GradientTape() as disc_tape:\n",
        "        generated_images = generator(noise, training=True)\n",
        "      \n",
        "        real_output = discriminator(images, training=True)\n",
        "        generated_output = discriminator(generated_images, training=True)\n",
        "        \n",
        "        gen_loss = generator_loss(generated_output)\n",
        "        disc_loss = discriminator_loss(real_output, generated_output)\n",
        "        \n",
        "      gradients_of_generator = gen_tape.gradient(gen_loss, generator.variables)\n",
        "      gradients_of_discriminator = disc_tape.gradient(disc_loss, discriminator.variables)\n",
        "      \n",
        "      generator_optimizer.apply_gradients(zip(gradients_of_generator, generator.variables))\n",
        "      discriminator_optimizer.apply_gradients(zip(gradients_of_discriminator, discriminator.variables))\n",
        "\n",
        "      \n",
        "    generate_and_save_images(generator, epoch + 1, random_vector_for_generation)\n",
        "    \n",
        "    # saving (checkpoint) the model every 15 epochs\n",
        "    if (epoch + 1) % 15 == 0:\n",
        "      checkpoint.save(file_prefix = checkpoint_prefix)\n",
        "    \n",
        "    print ('Time taken for epoch {} is {} sec'.format(epoch + 1,\n",
        "                                                      time.time()-start))\n",
        "  # generating after the final epoch\n",
        "  display.clear_output(wait=True)\n",
        "  generate_and_save_images(generator,\n",
        "                           epochs,\n",
        "                           random_vector_for_generation)"
      ],
      "execution_count": 0,
      "outputs": []
    },
    {
      "metadata": {
        "id": "q1e_YMjCBoeA",
        "colab_type": "code",
        "colab": {
          "base_uri": "https://localhost:8080/",
          "height": 268
        },
        "outputId": "c0d9ed52-c640-43f6-8898-0f12c3951076"
      },
      "cell_type": "code",
      "source": [
        "train(train_dataset, EPOCHS, noise_dim)"
      ],
      "execution_count": 43,
      "outputs": [
        {
          "output_type": "display_data",
          "data": {
            "image/png": "[encoded data removed]",
            "text/plain": [
              "<matplotlib.figure.Figure at 0x7fbf54820908>"
            ]
          },
          "metadata": {
            "tags": []
          }
        }
      ]
    }
  ]
}